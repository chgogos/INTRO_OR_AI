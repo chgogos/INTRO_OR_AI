{
 "cells": [
  {
   "cell_type": "markdown",
   "id": "f8143145",
   "metadata": {},
   "source": [
    "# Python mini tutorial \n",
    "\n",
    "See <https://learnxinyminutes.com/python/>"
   ]
  },
  {
   "cell_type": "code",
   "execution_count": 14,
   "id": "68da4801",
   "metadata": {},
   "outputs": [],
   "source": [
    "# Lists, sets, tuples, dictionaries"
   ]
  },
  {
   "cell_type": "code",
   "execution_count": 1,
   "id": "6cfe694a",
   "metadata": {},
   "outputs": [],
   "source": [
    "# Iterations over lists, sets, tuples, dictionaries"
   ]
  },
  {
   "cell_type": "code",
   "execution_count": 2,
   "id": "be0afe0c",
   "metadata": {},
   "outputs": [],
   "source": [
    "# Iterations using enumerate"
   ]
  },
  {
   "cell_type": "code",
   "execution_count": 3,
   "id": "4413dd5a",
   "metadata": {},
   "outputs": [],
   "source": [
    "# Functions"
   ]
  },
  {
   "cell_type": "code",
   "execution_count": null,
   "id": "15562fa4",
   "metadata": {},
   "outputs": [],
   "source": [
    "# Assertions"
   ]
  },
  {
   "cell_type": "code",
   "execution_count": 5,
   "id": "b3948dd0",
   "metadata": {},
   "outputs": [],
   "source": [
    "# OOP (classses, methods, instances)"
   ]
  },
  {
   "cell_type": "code",
   "execution_count": 6,
   "id": "81117033",
   "metadata": {},
   "outputs": [],
   "source": [
    "# Comprehensions"
   ]
  },
  {
   "cell_type": "code",
   "execution_count": 7,
   "id": "40fa9cbf",
   "metadata": {},
   "outputs": [],
   "source": [
    "# f-strings"
   ]
  },
  {
   "cell_type": "code",
   "execution_count": 8,
   "id": "08d90b8a",
   "metadata": {},
   "outputs": [],
   "source": [
    "# lambdas"
   ]
  },
  {
   "cell_type": "code",
   "execution_count": 9,
   "id": "435e5164",
   "metadata": {},
   "outputs": [],
   "source": [
    "# Read data from text files"
   ]
  },
  {
   "cell_type": "code",
   "execution_count": 10,
   "id": "c78d617e",
   "metadata": {},
   "outputs": [],
   "source": [
    "# Write data to text files"
   ]
  },
  {
   "cell_type": "code",
   "execution_count": 11,
   "id": "c61ea546",
   "metadata": {},
   "outputs": [],
   "source": [
    "# Measure execution time of code"
   ]
  },
  {
   "cell_type": "code",
   "execution_count": 12,
   "id": "10b6105b",
   "metadata": {},
   "outputs": [],
   "source": [
    "# zip"
   ]
  },
  {
   "cell_type": "code",
   "execution_count": 13,
   "id": "38c4dd58",
   "metadata": {},
   "outputs": [],
   "source": [
    "# in"
   ]
  },
  {
   "cell_type": "code",
   "execution_count": null,
   "id": "151ae25d",
   "metadata": {},
   "outputs": [],
   "source": []
  }
 ],
 "metadata": {
  "kernelspec": {
   "display_name": ".venv",
   "language": "python",
   "name": "python3"
  },
  "language_info": {
   "codemirror_mode": {
    "name": "ipython",
    "version": 3
   },
   "file_extension": ".py",
   "mimetype": "text/x-python",
   "name": "python",
   "nbconvert_exporter": "python",
   "pygments_lexer": "ipython3",
   "version": "3.10.12"
  }
 },
 "nbformat": 4,
 "nbformat_minor": 5
}
