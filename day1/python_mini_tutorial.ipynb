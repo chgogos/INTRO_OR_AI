{
 "cells": [
  {
   "cell_type": "markdown",
   "id": "f8143145",
   "metadata": {},
   "source": [
    "# Python mini tutorial \n",
    "\n",
    "See <https://learnxinyminutes.com/python/>"
   ]
  },
  {
   "cell_type": "code",
   "execution_count": 22,
   "id": "68da4801",
   "metadata": {},
   "outputs": [
    {
     "name": "stdout",
     "output_type": "stream",
     "text": [
      "[3, 5, 8, 'test', 5.6]\n",
      "{4, 5, 6}\n",
      "(3, 5, 8, 'test')\n",
      "8.5\n"
     ]
    }
   ],
   "source": [
    "# Lists, sets, tuples, dictionaries\n",
    "\n",
    "a = [3,5,8,\"test\"]\n",
    "a.append(5.6)\n",
    "print(a)\n",
    "\n",
    "b = {4,5,6,5}\n",
    "print(b)\n",
    "\n",
    "c = (3,5,8, \"test\")\n",
    "print(c)\n",
    "\n",
    "d = {\"nikos\":7, \"maria\":8.5, \"george\":4.5}\n",
    "print(d[\"maria\"])\n"
   ]
  },
  {
   "cell_type": "code",
   "execution_count": 3,
   "id": "6cfe694a",
   "metadata": {},
   "outputs": [
    {
     "name": "stdout",
     "output_type": "stream",
     "text": [
      "3 5 8 test \n",
      "####################\n",
      "nikos 7 maria 8.5 george 4.5 \n",
      "####################\n",
      "nikos 7 maria 8.5 george 4.5 \n"
     ]
    }
   ],
   "source": [
    "# Iterations over lists, sets, tuples, dictionaries\n",
    "a = [3,5,8,\"test\"]\n",
    "for x in a:\n",
    "    print(x, end=\" \")\n",
    "print()    \n",
    "\n",
    "print(\"#\"*20)\n",
    "\n",
    "d = {\"nikos\":7, \"maria\":8.5, \"george\":4.5}\n",
    "for k in d:\n",
    "    print(k, d[k], end = \" \")\n",
    "print()\n",
    "    \n",
    "print(\"#\"*20)\n",
    "\n",
    "for k, v in d.items():\n",
    "    print(k, v, end = \" \")\n",
    "print()"
   ]
  },
  {
   "cell_type": "code",
   "execution_count": 28,
   "id": "be0afe0c",
   "metadata": {},
   "outputs": [
    {
     "name": "stdout",
     "output_type": "stream",
     "text": [
      "0 3\n",
      "1 5\n",
      "2 8\n",
      "3 test\n",
      "####################\n",
      "0 3\n",
      "1 5\n",
      "2 8\n",
      "3 test\n"
     ]
    }
   ],
   "source": [
    "# Iterations using enumerate\n",
    "a = [3,5,8,\"test\"]\n",
    "for i, x in enumerate(a):\n",
    "    print(i, x)\n",
    "print(\"#\"*20)    \n",
    "# iteration with range\n",
    "for i in range(len(a)):\n",
    "    print(i, a[i])"
   ]
  },
  {
   "cell_type": "code",
   "execution_count": 31,
   "id": "4413dd5a",
   "metadata": {},
   "outputs": [
    {
     "name": "stdout",
     "output_type": "stream",
     "text": [
      "5050\n"
     ]
    },
    {
     "data": {
      "text/plain": [
       "0"
      ]
     },
     "execution_count": 31,
     "metadata": {},
     "output_type": "execute_result"
    }
   ],
   "source": [
    "# Functions\n",
    "\n",
    "def foo(start, finish):\n",
    "    tot = 0\n",
    "    for i in range(start, finish+1):\n",
    "        tot += i\n",
    "    return tot\n",
    "\n",
    "result = foo(1, 100)\n",
    "print(result)\n",
    "\n",
    "foo(100,1)"
   ]
  },
  {
   "cell_type": "code",
   "execution_count": 32,
   "id": "15562fa4",
   "metadata": {},
   "outputs": [
    {
     "name": "stdout",
     "output_type": "stream",
     "text": [
      "5050\n"
     ]
    },
    {
     "ename": "AssertionError",
     "evalue": "",
     "output_type": "error",
     "traceback": [
      "\u001b[0;31m---------------------------------------------------------------------------\u001b[0m",
      "\u001b[0;31mAssertionError\u001b[0m                            Traceback (most recent call last)",
      "Cell \u001b[0;32mIn[32], line 13\u001b[0m\n\u001b[1;32m     10\u001b[0m result \u001b[38;5;241m=\u001b[39m foo(\u001b[38;5;241m1\u001b[39m, \u001b[38;5;241m100\u001b[39m)\n\u001b[1;32m     11\u001b[0m \u001b[38;5;28mprint\u001b[39m(result)\n\u001b[0;32m---> 13\u001b[0m \u001b[43mfoo\u001b[49m\u001b[43m(\u001b[49m\u001b[38;5;241;43m100\u001b[39;49m\u001b[43m,\u001b[49m\u001b[38;5;241;43m1\u001b[39;49m\u001b[43m)\u001b[49m\n",
      "Cell \u001b[0;32mIn[32], line 4\u001b[0m, in \u001b[0;36mfoo\u001b[0;34m(start, finish)\u001b[0m\n\u001b[1;32m      3\u001b[0m \u001b[38;5;28;01mdef\u001b[39;00m\u001b[38;5;250m \u001b[39m\u001b[38;5;21mfoo\u001b[39m(start, finish):\n\u001b[0;32m----> 4\u001b[0m     \u001b[38;5;28;01massert\u001b[39;00m start \u001b[38;5;241m<\u001b[39m\u001b[38;5;241m=\u001b[39m finish\n\u001b[1;32m      5\u001b[0m     tot \u001b[38;5;241m=\u001b[39m \u001b[38;5;241m0\u001b[39m\n\u001b[1;32m      6\u001b[0m     \u001b[38;5;28;01mfor\u001b[39;00m i \u001b[38;5;129;01min\u001b[39;00m \u001b[38;5;28mrange\u001b[39m(start, finish\u001b[38;5;241m+\u001b[39m\u001b[38;5;241m1\u001b[39m):\n",
      "\u001b[0;31mAssertionError\u001b[0m: "
     ]
    }
   ],
   "source": [
    "# Assertions\n",
    "\n",
    "def foo(start, finish):\n",
    "    assert start <= finish\n",
    "    tot = 0\n",
    "    for i in range(start, finish+1):\n",
    "        tot += i\n",
    "    return tot\n",
    "\n",
    "result = foo(1, 100)\n",
    "print(result)\n",
    "\n",
    "foo(100,1)"
   ]
  },
  {
   "cell_type": "code",
   "execution_count": null,
   "id": "b3948dd0",
   "metadata": {},
   "outputs": [],
   "source": [
    "# OOP (classses, methods, instances)\n",
    "\n"
   ]
  },
  {
   "cell_type": "code",
   "execution_count": 33,
   "id": "81117033",
   "metadata": {},
   "outputs": [
    {
     "data": {
      "text/plain": [
       "[1, 4, 9, 16, 25, 36, 49, 64, 81]"
      ]
     },
     "execution_count": 33,
     "metadata": {},
     "output_type": "execute_result"
    }
   ],
   "source": [
    "# Comprehensions\n",
    "\n",
    "a = [x**2 for x in range(1, 10)]\n",
    "a"
   ]
  },
  {
   "cell_type": "code",
   "execution_count": 37,
   "id": "40fa9cbf",
   "metadata": {},
   "outputs": [
    {
     "name": "stdout",
     "output_type": "stream",
     "text": [
      "the first variable assumes value 42 and the second variable assumes value 2.7\n"
     ]
    }
   ],
   "source": [
    "# f-strings\n",
    "\n",
    "x = 42\n",
    "y = 2.712\n",
    "print(f\"the first variable assumes value {x} and the second variable assumes value {y:.1f}\")"
   ]
  },
  {
   "cell_type": "code",
   "execution_count": 8,
   "id": "08d90b8a",
   "metadata": {},
   "outputs": [],
   "source": [
    "# lambdas"
   ]
  },
  {
   "cell_type": "code",
   "execution_count": 9,
   "id": "435e5164",
   "metadata": {},
   "outputs": [],
   "source": [
    "# Read data from text files"
   ]
  },
  {
   "cell_type": "code",
   "execution_count": 10,
   "id": "c78d617e",
   "metadata": {},
   "outputs": [],
   "source": [
    "# Write data to text files"
   ]
  },
  {
   "cell_type": "code",
   "execution_count": null,
   "id": "c61ea546",
   "metadata": {},
   "outputs": [
    {
     "name": "stdout",
     "output_type": "stream",
     "text": [
      "Elapsed time = 0.46758\n"
     ]
    }
   ],
   "source": [
    "# Measure execution time of code\n",
    "import time\n",
    "\n",
    "now = time.time()\n",
    "tot = 0 \n",
    "for i in range(10_000_000):\n",
    "   tot += 1 \n",
    "elapsed = time.time() - now\n",
    "print(f\"Elapsed time = {elapsed:.5f}\")"
   ]
  },
  {
   "cell_type": "code",
   "execution_count": 42,
   "id": "10b6105b",
   "metadata": {},
   "outputs": [
    {
     "data": {
      "text/plain": [
       "[(1, 'nikos'), (2, 'christos'), (3, 'georgia')]"
      ]
     },
     "execution_count": 42,
     "metadata": {},
     "output_type": "execute_result"
    }
   ],
   "source": [
    "# zip\n",
    "\n",
    "x = zip([1,2,3], [\"nikos\", \"christos\", \"georgia\"])\n",
    "list(x)"
   ]
  },
  {
   "cell_type": "code",
   "execution_count": 43,
   "id": "38c4dd58",
   "metadata": {},
   "outputs": [
    {
     "data": {
      "text/plain": [
       "True"
      ]
     },
     "execution_count": 43,
     "metadata": {},
     "output_type": "execute_result"
    }
   ],
   "source": [
    "# in\n",
    "x = 8\n",
    "y = x in [1,7,8,90]\n",
    "y"
   ]
  },
  {
   "cell_type": "code",
   "execution_count": 2,
   "id": "151ae25d",
   "metadata": {},
   "outputs": [
    {
     "name": "stdout",
     "output_type": "stream",
     "text": [
      "82 15 4 95 36 32 29 18 95 14 "
     ]
    }
   ],
   "source": [
    "# random values\n",
    "import random\n",
    "\n",
    "random.seed(42)\n",
    "for _ in range(10):\n",
    "    print(random.randint(1,100), end= \" \")"
   ]
  },
  {
   "cell_type": "code",
   "execution_count": null,
   "id": "d28286c6",
   "metadata": {},
   "outputs": [],
   "source": []
  }
 ],
 "metadata": {
  "kernelspec": {
   "display_name": ".venv",
   "language": "python",
   "name": "python3"
  },
  "language_info": {
   "codemirror_mode": {
    "name": "ipython",
    "version": 3
   },
   "file_extension": ".py",
   "mimetype": "text/x-python",
   "name": "python",
   "nbconvert_exporter": "python",
   "pygments_lexer": "ipython3",
   "version": "3.10.12"
  }
 },
 "nbformat": 4,
 "nbformat_minor": 5
}
